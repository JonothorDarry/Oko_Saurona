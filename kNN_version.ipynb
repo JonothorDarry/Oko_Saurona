{
 "cells": [
  {
   "cell_type": "code",
   "execution_count": 12,
   "metadata": {},
   "outputs": [
    {
     "name": "stdout",
     "output_type": "stream",
     "text": [
      "The Cython extension is already loaded. To reload it, use:\n",
      "  %reload_ext Cython\n"
     ]
    }
   ],
   "source": [
    "import cv2\n",
    "import numpy as np\n",
    "import matplotlib.pyplot as plt\n",
    "from scipy import signal\n",
    "from skimage import filters\n",
    "from skimage import morphology\n",
    "import math\n",
    "from skimage import measure\n",
    "import time\n",
    "import sklearn.preprocessing\n",
    "from sklearn.neighbors import KNeighborsClassifier\n",
    "%load_ext Cython"
   ]
  },
  {
   "cell_type": "code",
   "execution_count": 2,
   "metadata": {},
   "outputs": [
    {
     "name": "stdout",
     "output_type": "stream",
     "text": [
      "['01_dr', '02_dr', '03_dr', '04_dr', '05_dr', '06_dr', '07_dr', '08_dr', '09_dr', '10_dr', '11_dr', '12_dr', '13_dr', '14_dr', '01_h', '02_h', '03_h', '04_h', '05_h', '06_h', '07_h', '08_h', '09_h', '10_h', '11_h', '12_h', '13_h', '14_h', '01_g', '02_g', '03_g', '04_g', '05_g', '06_g', '07_g', '08_g', '09_g', '10_g', '11_g', '12_g', '13_g', '14_g']\n"
     ]
    },
    {
     "data": {
      "text/plain": [
       "\"for x in Images:\\n    #plt.imshow(cv2.cvtColor(x, cv2.COLOR_BGR2RGB))\\n    plt.imshow(x, cmap='gray')\\n    plt.show()\""
      ]
     },
     "execution_count": 2,
     "metadata": {},
     "output_type": "execute_result"
    }
   ],
   "source": [
    "dt=[('0' if x<10 else '')+str(x) for x in range(1, 15)]\n",
    "dy=[[y+'_'+x for y in dt] for x in ['dr', 'h', 'g']]\n",
    "z=[]\n",
    "for x in dy:\n",
    "    z=z+x\n",
    "print(z)\n",
    "\n",
    "flag=cv2.IMREAD_GRAYSCALE\n",
    "#flag=cv2.IMREAD_COLOR\n",
    "Manuals = [cv2.imread(f\"manual1/{x}.tif\", flag) for x in z]\n",
    "Masks= [cv2.imread(f\"mask/{x}_mask.tif\", flag) for x in z]\n",
    "Images= [cv2.imread(f\"images/{x}.jpg\", flag) for x in z]\n",
    "\n",
    "Creation=list(zip(Manuals, Masks, Images))\n",
    "\n",
    "\"\"\"for x in Images:\n",
    "    #plt.imshow(cv2.cvtColor(x, cv2.COLOR_BGR2RGB))\n",
    "    plt.imshow(x, cmap='gray')\n",
    "    plt.show()\n",
    "\"\"\""
   ]
  },
  {
   "cell_type": "code",
   "execution_count": 212,
   "metadata": {},
   "outputs": [],
   "source": [
    "def pad(img, con=3):\n",
    "    dt=np.zeros((img.shape[0]+2*con, img.shape[1]+2*con), dtype='uint8')\n",
    "    dt[con:dt.shape[0]-con,con:dt.shape[1]-con]=img\n",
    "    return dt\n",
    "\n",
    "def getItem(img, x, y, con=3):\n",
    "    huhu=measure.moments_hu(img[x-con:x+con,y-con:y+con])\n",
    "    vz=[img[x-con:x+con,y-con:y+con].var()]\n",
    "    col=[img[x,y]]\n",
    "    lees=np.concatenate((huhu, col, vz))\n",
    "    return lees\n",
    "\n",
    "def getImagoData(img):\n",
    "    Cnt=5\n",
    "    dissolve=np.zeros((img.shape[0]*img.shape[1], getItem(img, 200, 200).shape[0]))\n",
    "    \n",
    "    img2=pad(img, Cnt)\n",
    "    for i in range(img.shape[0]):\n",
    "        for j in range(img.shape[1]):\n",
    "            dissolve[i*img.shape[0]+j]=getItem(img2, i+Cnt, j+Cnt, Cnt)\n",
    "            \n",
    "    return dissolve\n",
    "\n",
    "\n",
    "def getImagoRes(bwimg):\n",
    "    res=np.reshape(bwimg, (bwimg.shape[0]*bwimg.shape[1]))\n",
    "    return res\n",
    "\n",
    "def getImagoRandomoRes(resimg, tupls):\n",
    "    res=[]\n",
    "    for x in tupls:\n",
    "        res.append(resimg[x[0], x[1]])\n",
    "    return np.asarray(res)\n",
    "\n",
    "#0 - manual, 1 - maska, 2 - oryginał\n",
    "def randomizer(set_img):\n",
    "    Z=500001\n",
    "    Cnt=5\n",
    "    img2=pad(set_img[2], Cnt)\n",
    "    dissolve=[]\n",
    "    tuplez=[]\n",
    "    \n",
    "    for i in range(Z):\n",
    "        while (True):\n",
    "            rn=np.random.randint(0, set_img[0].shape[0]*set_img[0].shape[1])\n",
    "            rny=rn%set_img[1].shape[1]\n",
    "            rnx=rn//set_img[1].shape[1]\n",
    "                \n",
    "            if (set_img[1][rnx,rny]!=0 and\n",
    "                (set_img[0][rnx,rny]!=0 or\n",
    "                 np.random.randint(0, 4)%4==0)):\n",
    "                break\n",
    "        dissolve.append(getItem(img2, rnx+Cnt, rny+Cnt, Cnt))\n",
    "        tuplez.append((rnx, rny))\n",
    "        #print(rnx, rny, set_img[0][rnx,rny])\n",
    "    return np.asarray(dissolve), tuplez"
   ]
  },
  {
   "cell_type": "code",
   "execution_count": 213,
   "metadata": {
    "scrolled": true
   },
   "outputs": [
    {
     "name": "stdout",
     "output_type": "stream",
     "text": [
      "HUHU, 29.53576135635376\n",
      "58.41581988334656\n"
     ]
    },
    {
     "data": {
      "text/plain": [
       "'\\nfor numb, x in enumerate(Creation):\\n    img=x[2].copy()\\n    t1=time.time()\\n    for i in range(img.shape[0]-Cnt):\\n        for j in range(img.shape[1]-Cnt):\\n            huhu=measure.moments_hu(img[i:i+Cnt,i:i+Cnt])\\n            zentral=measure.moments_central(img[i:i+Cnt,i:i+Cnt])\\n        print(i)\\n    t2=time.time()\\n    print(t2-t1)\\n'"
      ]
     },
     "execution_count": 213,
     "metadata": {},
     "output_type": "execute_result"
    }
   ],
   "source": [
    "t1=time.time()\n",
    "x1, locs1=randomizer(Creation[0])\n",
    "print(f'HUHU, {time.time()-t1}')\n",
    "x2, locs2=randomizer(Creation[1])\n",
    "t2=time.time()\n",
    "print(t2-t1)\n",
    "\n",
    "\n",
    "\"\"\"\n",
    "for numb, x in enumerate(Creation):\n",
    "    img=x[2].copy()\n",
    "    t1=time.time()\n",
    "    for i in range(img.shape[0]-Cnt):\n",
    "        for j in range(img.shape[1]-Cnt):\n",
    "            huhu=measure.moments_hu(img[i:i+Cnt,i:i+Cnt])\n",
    "            zentral=measure.moments_central(img[i:i+Cnt,i:i+Cnt])\n",
    "        print(i)\n",
    "    t2=time.time()\n",
    "    print(t2-t1)\n",
    "\"\"\""
   ]
  },
  {
   "cell_type": "code",
   "execution_count": 214,
   "metadata": {},
   "outputs": [
    {
     "name": "stdout",
     "output_type": "stream",
     "text": [
      "(500001, 9)\n"
     ]
    }
   ],
   "source": [
    "print(x1.shape)\n",
    "y1=getImagoRandomoRes(Creation[0][0], locs1)\n",
    "xp1=sklearn.preprocessing.normalize(x1)\n",
    "xp2=sklearn.preprocessing.normalize(x2)"
   ]
  },
  {
   "cell_type": "code",
   "execution_count": 221,
   "metadata": {},
   "outputs": [
    {
     "name": "stdout",
     "output_type": "stream",
     "text": [
      "2.0206305980682373\n"
     ]
    }
   ],
   "source": [
    "nigg=KNeighborsClassifier(n_neighbors=5)\n",
    "t1=time.time()\n",
    "nigg.fit(xp1, y1)\n",
    "t2=time.time()\n",
    "print(t2-t1)"
   ]
  },
  {
   "cell_type": "code",
   "execution_count": 222,
   "metadata": {},
   "outputs": [
    {
     "name": "stdout",
     "output_type": "stream",
     "text": [
      "11.891641855239868\n",
      "500001 500001\n"
     ]
    }
   ],
   "source": [
    "t1=time.time()\n",
    "yp2=nigg.predict(xp2)\n",
    "t2=time.time()\n",
    "print(t2-t1)\n",
    "\n",
    "print(len(yp2), len(y1))"
   ]
  },
  {
   "cell_type": "code",
   "execution_count": 223,
   "metadata": {},
   "outputs": [
    {
     "name": "stdout",
     "output_type": "stream",
     "text": [
      "tp 22961\n",
      "tn 334384\n",
      "fp 42152\n",
      "fn 100504\n",
      "acc:0.7146885706228587, prec:0.3526331147389922, rec:0.18597173287976348, geom:0.25608551583172146\n"
     ]
    }
   ],
   "source": [
    "def evaluator(im1, im2):\n",
    "    dicc={}\n",
    "    dicc[\"1st B\"]=len(im1[im1==0])\n",
    "    dicc[\"1st W\"]=len(im1[im1!=0])\n",
    "    dicc[\"2nd B\"]=len(im2[im2==0])\n",
    "    dicc[\"2nd W\"]=len(im2[im2!=0])\n",
    "    \n",
    "    dicc[\"tp\"]=len(im2[(im2==im1) & (im2!=0)])\n",
    "    dicc[\"tn\"]=len(im2[(im2==im1) & (im2==0)])\n",
    "    dicc[\"fp\"]=len(im2[(im2!=im1) & (im2!=0)])\n",
    "    dicc[\"fn\"]=len(im2[(im2!=im1) & (im2==0)])\n",
    "    _=[print(x, dicc[x]) for x in [\"tp\", \"tn\", \"fp\", \"fn\"]]\n",
    "    if (dicc[\"fn\"]==0):\n",
    "        dicc[\"fn\"]=1\n",
    "    \n",
    "    dicc[\"acc\"]=(dicc[\"tp\"]+dicc[\"tn\"])/(dicc[\"tp\"]+dicc[\"tn\"]+dicc[\"fp\"]+dicc[\"fn\"])\n",
    "    dicc[\"prec\"]=dicc[\"tp\"]/(dicc[\"tp\"]+dicc[\"fp\"])\n",
    "    dicc[\"rec\"]=dicc[\"tp\"]/(dicc[\"tp\"]+dicc[\"fn\"])\n",
    "    \n",
    "    return dicc\n",
    "\n",
    "y2=getImagoRandomoRes(Creation[1][0], locs2)\n",
    "dct=evaluator(y2, yp2)\n",
    "print(f\"acc:{dct['acc']}, prec:{dct['prec']}, rec:{dct['rec']}, geom:{math.sqrt(dct['prec']*dct['rec'])}\")"
   ]
  },
  {
   "cell_type": "code",
   "execution_count": 175,
   "metadata": {},
   "outputs": [
    {
     "name": "stdout",
     "output_type": "stream",
     "text": [
      "1961205 2036175\n"
     ]
    }
   ],
   "source": [
    "print(sum(y2), sum(yp2))"
   ]
  },
  {
   "cell_type": "code",
   "execution_count": null,
   "metadata": {},
   "outputs": [],
   "source": []
  },
  {
   "cell_type": "code",
   "execution_count": null,
   "metadata": {},
   "outputs": [],
   "source": []
  },
  {
   "cell_type": "code",
   "execution_count": null,
   "metadata": {},
   "outputs": [],
   "source": []
  },
  {
   "cell_type": "code",
   "execution_count": null,
   "metadata": {},
   "outputs": [],
   "source": []
  },
  {
   "cell_type": "code",
   "execution_count": null,
   "metadata": {},
   "outputs": [],
   "source": []
  },
  {
   "cell_type": "code",
   "execution_count": null,
   "metadata": {},
   "outputs": [],
   "source": []
  },
  {
   "cell_type": "code",
   "execution_count": null,
   "metadata": {},
   "outputs": [],
   "source": []
  },
  {
   "cell_type": "code",
   "execution_count": 31,
   "metadata": {},
   "outputs": [
    {
     "data": {
      "text/plain": [
       "2.9166666666666665"
      ]
     },
     "execution_count": 31,
     "metadata": {},
     "output_type": "execute_result"
    }
   ],
   "source": [
    "np.asarray([[1,2,3],[4,5,6]]).var()"
   ]
  },
  {
   "cell_type": "code",
   "execution_count": null,
   "metadata": {},
   "outputs": [],
   "source": [
    "%%cython\n",
    "import numpy as np\n",
    "cimport numpy as np\n",
    "from cpython cimport array\n",
    "from skimage import measure\n",
    "import array\n",
    "\n",
    "\n",
    "def pad(img, con=3):\n",
    "    dt=np.zeros((img.shape[0]+2*con, img.shape[1]+2*con), dtype='uint8')\n",
    "    dt[con:dt.shape[0]-con,con:dt.shape[1]-con]=img\n",
    "    return dt\n",
    "\n",
    "\n",
    "def getItem(img, x, y, con=3):\n",
    "    lees=np.asarray([], dtype='float')\n",
    "    huhu=measure.moments_hu(img[x-con:x+con,y-con:y+con])\n",
    "    lees=np.concatenate((lees, huhu))\n",
    "    col=img[x,y]\n",
    "    lees=np.concatenate((lees, np.asarray([col], dtype='float')))\n",
    "    return lees\n",
    "\n",
    "def getImagoData(unsigned char[:,:] img, int train=0):\n",
    "    #cdef int s=0, t=0, gr=0, ij, i, jj\n",
    "    cdef int i=0, j=0, Cnt=10, is1=img.shape[0], is2=img.shape[1], ij\n",
    "    cdef np.ndarray[double, ndim=2] dissolve=np.zeros((img.shape[0]*img.shape[1], getItem(img, 200, 200).shape[0]))\n",
    "    cdef np.ndarray[unsigned char, ndim=2] img2=pad(img, Cnt)\n",
    "    cdef np.ndarray[double, ndim=1] tmp=np.zeros((getItem(img, 200, 200).shape[0]))\n",
    "    \n",
    "    for i in range(is1):\n",
    "        for j in range(is2):\n",
    "            tmp=getItem(img2, i+Cnt, j+Cnt, Cnt)\n",
    "            for ij in range(tmp.shape[0]):\n",
    "                dissolve[i*is1+j,ij]=tmp[ij]\n",
    "    return dissolve"
   ]
  },
  {
   "cell_type": "code",
   "execution_count": 46,
   "metadata": {},
   "outputs": [
    {
     "name": "stdout",
     "output_type": "stream",
     "text": [
      "[1 2 3 4 5 6 7 8]\n",
      "-3364981360.0\n"
     ]
    }
   ],
   "source": [
    "res=np.asarray([[1,2,3,4],[5,6,7,8]])\n",
    "print(np.reshape(res, (res.shape[0]*res.shape[1])))\n",
    "\n"
   ]
  },
  {
   "cell_type": "code",
   "execution_count": null,
   "metadata": {},
   "outputs": [],
   "source": []
  }
 ],
 "metadata": {
  "kernelspec": {
   "display_name": "Python 3",
   "language": "python",
   "name": "python3"
  },
  "language_info": {
   "codemirror_mode": {
    "name": "ipython",
    "version": 3
   },
   "file_extension": ".py",
   "mimetype": "text/x-python",
   "name": "python",
   "nbconvert_exporter": "python",
   "pygments_lexer": "ipython3",
   "version": "3.7.3"
  }
 },
 "nbformat": 4,
 "nbformat_minor": 2
}
